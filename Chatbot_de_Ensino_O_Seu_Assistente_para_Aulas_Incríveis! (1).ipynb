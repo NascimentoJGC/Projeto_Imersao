{
  "nbformat": 4,
  "nbformat_minor": 0,
  "metadata": {
    "colab": {
      "provenance": []
    },
    "kernelspec": {
      "name": "python3",
      "display_name": "Python 3"
    },
    "language_info": {
      "name": "python"
    }
  },
  "cells": [
    {
      "cell_type": "code",
      "source": [
        "%pip -q install google-genai"
      ],
      "metadata": {
        "id": "UCCbECexLk_h"
      },
      "execution_count": 98,
      "outputs": []
    },
    {
      "cell_type": "code",
      "source": [
        "# Configura a API Key do Google Gemini\n",
        "\n",
        "import os\n",
        "from google.colab import userdata\n",
        "\n",
        "os.environ[\"GOOGLE_API_KEY\"] = userdata.get('GOOGLE_API_KEY')"
      ],
      "metadata": {
        "id": "NfCqHo1tLk8P"
      },
      "execution_count": 99,
      "outputs": []
    },
    {
      "cell_type": "code",
      "source": [
        "# Configura o cliente da SDK do Gemini\n",
        "\n",
        "from google import genai\n",
        "\n",
        "client = genai.Client()\n",
        "\n",
        "MODEL_ID = \"gemini-2.0-flash\""
      ],
      "metadata": {
        "id": "bV4w0H5TLk5g"
      },
      "execution_count": 100,
      "outputs": []
    },
    {
      "cell_type": "code",
      "source": [
        "# Instalar Framework de agentes do Google ################################################\n",
        "!pip install -q google-adk"
      ],
      "metadata": {
        "id": "a1eRPalxEnj7"
      },
      "execution_count": 101,
      "outputs": []
    },
    {
      "cell_type": "code",
      "execution_count": 102,
      "metadata": {
        "id": "aePV2bdfDeoW"
      },
      "outputs": [],
      "source": [
        "from google.adk.agents import Agent\n",
        "from google.adk.runners import Runner\n",
        "from google.adk.sessions import InMemorySessionService\n",
        "from google.adk.tools import google_search\n",
        "from google.genai import types  # Para criar conteúdos (Content e Part)\n",
        "from datetime import date\n",
        "import textwrap # Para formatar melhor a saída de texto\n",
        "from IPython.display import display, Markdown # Para exibir texto formatado no Colab\n",
        "import requests # Para fazer requisições HTTP\n",
        "import warnings\n",
        "\n",
        "warnings.filterwarnings(\"ignore\")"
      ]
    },
    {
      "cell_type": "code",
      "source": [
        "# Função auxiliar que envia uma mensagem para um agente via Runner e retorna a resposta final\n",
        "def call_agent(agent: Agent, message_text: str) -> str:\n",
        "    # Cria um serviço de sessão em memória\n",
        "    session_service = InMemorySessionService()\n",
        "    # Cria uma nova sessão (você pode personalizar os IDs conforme necessário)\n",
        "    session = session_service.create_session(app_name=agent.name, user_id=\"user1\", session_id=\"session1\")\n",
        "    # Cria um Runner para o agente\n",
        "    runner = Runner(agent=agent, app_name=agent.name, session_service=session_service)\n",
        "    # Cria o conteúdo da mensagem de entrada\n",
        "    content = types.Content(role=\"user\", parts=[types.Part(text=message_text)])\n",
        "\n",
        "    final_response = \"\"\n",
        "    # Itera assincronamente pelos eventos retornados durante a execução do agente\n",
        "    for event in runner.run(user_id=\"user1\", session_id=\"session1\", new_message=content):\n",
        "        if event.is_final_response():\n",
        "          for part in event.content.parts:\n",
        "            if part.text is not None:\n",
        "              final_response += part.text\n",
        "              final_response += \"\\n\"\n",
        "    return final_response"
      ],
      "metadata": {
        "id": "_xP4lWhsS5ko"
      },
      "execution_count": 103,
      "outputs": []
    },
    {
      "cell_type": "code",
      "source": [
        "# Função auxiliar para exibir texto formatado em Markdown no Colab\n",
        "def to_markdown(text):\n",
        "  text = text.replace('•', '  *')\n",
        "  return Markdown(textwrap.indent(text, '> ', predicate=lambda _: True))"
      ],
      "metadata": {
        "id": "8dosiodaxfFR"
      },
      "execution_count": 104,
      "outputs": []
    },
    {
      "cell_type": "code",
      "source": [
        "##########################################\n",
        "# -- Agente 1: Buscador de Informações -- #\n",
        "##########################################\n",
        "def agente_buscador(topico, data_de_hoje):\n",
        "\n",
        "    buscador = Agent(\n",
        "        name=\"agente_buscador\",\n",
        "        model=\"gemini-2.0-flash\",\n",
        "        instruction=\"\"\"\n",
        "        Você é um assistente de pesquisa especialia dar aulas didáticas, para auxiliar professores. A sua tarefa é usar a ferramenta\n",
        "        de busca do google (google_search) para encontrar os pontos muito relevantes sobre o tópico abaixo.\n",
        "        Foque em no máximo 6 pontos relevantes, com base na qualidade e confiabilidade do site em que foi encontrado.\n",
        "        Se um site tiver pouca confiabilidade, é possível que ele não seja tão relevante assim\n",
        "        e pode ser substituído por outro que tenha mais.\n",
        "        Esses pontos devem ser relevantes e atuais.\n",
        "        \"\"\",\n",
        "        description=\"Agente que busca informações no Google\",\n",
        "        tools=[google_search]\n",
        "    )\n",
        "\n",
        "    entrada_do_agente_buscador = f\"Tópico: {topico}\\nData de hoje: {data_de_hoje}\"\n",
        "\n",
        "    pontos_buscados = call_agent(buscador, entrada_do_agente_buscador)\n",
        "    return pontos_buscados"
      ],
      "metadata": {
        "id": "o8bqIfi_DyH8"
      },
      "execution_count": 105,
      "outputs": []
    },
    {
      "cell_type": "code",
      "source": [
        "################################################\n",
        "# --- Agente 2: Organizador de ideias --- #\n",
        "################################################\n",
        "def agente_organizador(topico, pontos_buscados):\n",
        "    organizador = Agent(\n",
        "        name=\"agente_organizador\",\n",
        "        model=\"gemini-2.0-flash\",\n",
        "        instruction=\"\"\"\n",
        "        Você é um organizador de ideias que auxilia professores, especialista em criar planos de aula de fácil entendimento. Com base na lista de\n",
        "        pontos mais recentes e relevantes buscados, você deve:\n",
        "        usar a ferramenta de busca do Google (google_search) para criar um plano sobre\n",
        "        quais são os pontos mais relevantes que poderíamos abordar em um plano de aula  sobre\n",
        "        cada um deles. Você também pode usar o (google_search) para encontrar mais\n",
        "        informações sobre os temas e aprofundar.\n",
        "        Ao final, você irá escolher o tema mais relevante entre eles com base nas suas pesquisas\n",
        "        e retornar esse tema, seus pontos mais relevantes, e um plano com os assuntos\n",
        "        a serem abordados no plano de aula que será elaborado posteriormente.\n",
        "        \"\"\",\n",
        "        description=\"Agente organizador de ideias\",\n",
        "        tools=[google_search]\n",
        "    )\n",
        "\n",
        "    entrada_do_agente_organizador = f\"Tópico:{topico}\\npontos buscados: {pontos_buscados}\"\n",
        "    # Executa o agente\n",
        "    plano_de_aula = call_agent(organizador, entrada_do_agente_organizador)\n",
        "    return plano_de_aula"
      ],
      "metadata": {
        "id": "y3VO1uo5_ghO"
      },
      "execution_count": 113,
      "outputs": []
    },
    {
      "cell_type": "code",
      "source": [
        "######################################\n",
        "# Agente 3: Redator do Plano de Aula #\n",
        "######################################\n",
        "def agente_redator(topico, plano_de_aula):\n",
        "    redator = Agent(\n",
        "        name=\"agente_redator\",\n",
        "        model=\"gemini-2.0-flash\",\n",
        "        instruction=\"\"\"\n",
        "            Você é um Professor Criativo e que os alunos adoram, especializado em criar planos de aula de fácil entendimento,\n",
        "            didático e bastante explicativo sobre qualquer conteúdos.\n",
        "            O plano de aula deve ser escrito em português brasileiro.\n",
        "            Utilize o ponto fornecido no plano de aula e os pontos mais relevantes fornecidos e, com base nisso,\n",
        "            elabore um plano de aula sobre o tema indicado.\n",
        "            O plano de aula deve ser informativo, com linguagem simples e bastante didático.\n",
        "            Não esqueça de por as referências usadas para elaboração do plano de aula, ao final dele.\n",
        "            \"\"\",\n",
        "        description=\"Agente redator de planos de aula\",\n",
        "        tools=[google_search]\n",
        "    )\n",
        "    entrada_do_agente_redator = f\"Tópico: {topico}\\nPlano de aula: {plano_de_resumo}\"\n",
        "    # Executa o agente\n",
        "    aula = call_agent(redator, entrada_do_agente_redator)\n",
        "    return aula"
      ],
      "metadata": {
        "id": "uOqlg2TRLVh1"
      },
      "execution_count": 114,
      "outputs": []
    },
    {
      "cell_type": "code",
      "source": [
        "data_de_hoje = date.today().strftime(\"%d/%m/%Y\")\n",
        "\n",
        "print(\"Olá Professor(a) 🍎! Bem-vindo ao Chatbot de ensino 📚\\n💡 Nosso objetivo é auxiliar você criando planos de aula didáticos 💡\")\n",
        "\n",
        "# --- Obter o Tópico do Usuário ---\n",
        "topico = input(\"❓ Por favor, sobre qual tópico você gostaria de ensinar?: \")\n",
        "\n",
        "# Inserir lógica do sistema de agentes ################################################\n",
        "if not topico:\n",
        "    print(\"Você esqueceu de digitar o tópico!\")\n",
        "else:\n",
        "    print(f\"Maravilha! Então vamos criar um Plano de Aula sobre {topico} 📝\")\n",
        "\n",
        "    pontos_buscados = agente_buscador(topico, data_de_hoje)\n",
        "    print(\"\\n--- 📝 Resultado da Pesquisa Inicial ---\\n\")\n",
        "    display(to_markdown(pontos_buscados))\n",
        "    print(\"--------------------------------------------------------------\")\n",
        "\n",
        "    plano_de_resumo = agente_organizador(topico, pontos_buscados)\n",
        "    print(\"\\n--- 📝 Resultado dos Primeiros Passos para Criação do Seu Plano de Aula ---\\n\")\n",
        "    display(to_markdown(plano_de_resumo))\n",
        "    print(\"--------------------------------------------------------------\")\n",
        "\n",
        "    resumo = agente_redator(topico, plano_de_resumo)\n",
        "    print(\"\\n--- 📝 Plano de Aula Pronto! ---\\n\")\n",
        "    display(to_markdown(resumo))\n",
        "    print(\"--------------------------------------------------------------\")\n",
        "\n"
      ],
      "metadata": {
        "colab": {
          "base_uri": "https://localhost:8080/",
          "height": 1000
        },
        "id": "6xzI6LKzxxnN",
        "outputId": "5962df6f-ee6e-4723-adcb-887137ce6d75"
      },
      "execution_count": 116,
      "outputs": [
        {
          "output_type": "stream",
          "name": "stdout",
          "text": [
            "Olá Professor(a) 🍎! Bem-vindo ao Chatbot de ensino 📚\n",
            "💡 Nosso objetivo é auxiliar você criando planos de aula didáticos 💡\n",
            "❓ Por favor, sobre qual tópico você gostaria de ensinar?: Cabanagem\n",
            "Maravilha! Então vamos criar um Plano de Aula sobre Cabanagem 📝\n",
            "\n",
            "--- 📝 Resultado da Pesquisa Inicial ---\n",
            "\n"
          ]
        },
        {
          "output_type": "display_data",
          "data": {
            "text/plain": [
              "<IPython.core.display.Markdown object>"
            ],
            "text/markdown": "> Okay, vamos buscar os pontos mais relevantes e atuais sobre a Cabanagem para auxiliar professores a darem uma aula didática sobre o tema. Farei algumas buscas no Google para encontrar informações de qualidade e confiáveis.\n> \n> \n> Com certeza! Aqui estão 6 pontos relevantes sobre a Cabanagem, elaborados para auxiliar professores a darem uma aula didática sobre o tema, considerando a relevância e confiabilidade das fontes:\n> \n> 1.  **Contexto Histórico:** A Cabanagem ocorreu no Grão-Pará (região que abrangia os atuais estados do Amazonas, Pará, Amapá, Roraima e Rondônia) entre 1835 e 1840, durante o Período Regencial do Brasil. Este período foi marcado por instabilidade política após a abdicação de Dom Pedro I e antes da ascensão de Dom Pedro II. A região do Grão-Pará, distante do poder central no Rio de Janeiro, enfrentava tensões políticas e econômicas.\n> 2.  **Causas:** A revolta foi motivada por uma combinação de fatores, incluindo a extrema pobreza da população local (indígenas, negros, mestiços e brancos pobres), o isolamento político da região, a forte influência portuguesa mesmo após a Independência do Brasil, e a concentração de poder nas mãos de uma elite local que não atendia aos interesses da maioria. Havia também um desejo de maior autonomia em relação ao governo central.\n> 3.  **Participantes e Líderes:** A Cabanagem se destacou pela ampla participação popular, envolvendo diferentes setores da sociedade, desde a elite local descontente até a população mais pobre, conhecida como \"cabanos\" devido às suas habitações simples. Entre os líderes, destacam-se Félix Clemente Malcher, Francisco e Antônio Vinagre, Eduardo Angelim e Batista Campos.\n> 4.  **Desenvolvimento:** A revolta teve início com a tomada de Belém pelos cabanos em janeiro de 1835, resultando na morte de autoridades e na proclamação de um governo provisório. Ao longo dos anos, a Cabanagem passou por diferentes fases, com os cabanos chegando a controlar a província em alguns momentos, mas enfrentando a repressão das forças imperiais.\n> 5.  **Consequências:** A Cabanagem foi um conflito extremamente violento, resultando na morte de cerca de 30% a 40% da população do Grão-Pará. A revolta não atingiu seus objetivos de transformação social e política, mas evidenciou as tensões sociais, raciais e econômicas do Brasil Imperial, além de impulsionar discussões sobre desigualdade e injustiça social na região amazônica.\n> 6.  **Legado:** Apesar de sua derrota, a Cabanagem é lembrada como um importante movimento de resistência popular na história do Brasil, revelando as profundas desigualdades sociais e regionais do país no século XIX. A revolta também contribuiu para a construção da identidade amazônida e inspirou diversas manifestações culturais e artísticas na região.\n> \n> Espero que estes pontos ajudem a enriquecer a sua aula sobre a Cabanagem!\n> \n"
          },
          "metadata": {}
        },
        {
          "output_type": "stream",
          "name": "stdout",
          "text": [
            "--------------------------------------------------------------\n",
            "\n",
            "--- 📝 Resultado dos Primeiros Passos para Criação do Seu Plano de Aula ---\n",
            "\n"
          ]
        },
        {
          "output_type": "display_data",
          "data": {
            "text/plain": [
              "<IPython.core.display.Markdown object>"
            ],
            "text/markdown": "> Okay, com base nos pontos que você me forneceu, vou usar a ferramenta de busca do Google para criar um plano de aula mais detalhado e relevante sobre a Cabanagem. Isso incluirá informações adicionais e atuais para auxiliar os professores a darem uma aula didática e envolvente sobre o tema.\n> \n> \n> Com base nas informações coletadas, o tema mais relevante para um plano de aula sobre a Cabanagem é:\n> \n> **Tema:** A Cabanagem: Revolta Popular na Amazônia Imperial\n> \n> **Pontos Relevantes:**\n> \n> *   **Contexto Histórico:** Período Regencial (1831-1840), instabilidade política, disputas de poder, Grão-Pará (Amazonas, Pará, Amapá, Roraima e Rondônia), distância do poder central, economia extrativista.\n> *   **Causas:** Pobreza da população (indígenas, negros, mestiços, brancos pobres), isolamento político, influência portuguesa, concentração de poder na elite local, desigualdade social, racial e econômica, desejo de autonomia.\n> *   **Participantes e Líderes:** Ampla participação popular (elite descontente e população pobre - \"cabanos\"), Félix Clemente Malcher, Francisco e Antônio Vinagre, Eduardo Angelim, Batista Campos, mulheres cabanas, outros líderes populares.\n> *   **Desenvolvimento:** Tomada de Belém (1835), governo provisório cabano, fases da revolta, controle da província, repressão das forças imperiais, violência.\n> *   **Consequências:** Grande número de mortos (30-40% da população), não atingiu os objetivos de transformação, evidenciou tensões sociais, raciais e econômicas, discussões sobre desigualdade e injustiça social.\n> *   **Legado:** Resistência popular, desigualdades sociais e regionais no Brasil, identidade amazônida, manifestações culturais e artísticas, Memorial da Cabanagem em Belém (Oscar Niemeyer).\n> \n> **Plano de Aula Detalhado:**\n> \n> 1.  **Introdução (15 minutos):**\n>     *   Apresentar o tema da Cabanagem como uma importante revolta popular ocorrida no Brasil durante o Período Regencial.\n>     *   Contextualizar o Período Regencial como um período de instabilidade política e revoltas em diversas províncias.\n>     *   Mencionar a localização da Cabanagem no Grão-Pará e sua importância para a região amazônica.\n> \n> 2.  **Contexto Histórico (20 minutos):**\n>     *   Explicar a situação política do Brasil após a abdicação de Dom Pedro I e a formação do Período Regencial.\n>     *   Abordar as disputas de poder entre diferentes grupos políticos e a descentralização do poder.\n>     *   Descrever a situação do Grão-Pará, incluindo sua economia extrativista e sua distância do poder central.\n> \n> 3.  **Causas da Cabanagem (25 minutos):**\n>     *   Analisar as causas sociais, econômicas e políticas da revolta.\n>     *   Discutir a pobreza da população local e a desigualdade social.\n>     *   Abordar a questão da influência portuguesa e a concentração de poder nas mãos da elite local.\n>     *   Apresentar o desejo de autonomia da região em relação ao governo central.\n> \n> 4.  **Participantes e Líderes (20 minutos):**\n>     *   Destacar a ampla participação popular na Cabanagem, incluindo diferentes setores da sociedade.\n>     *   Apresentar os principais líderes da revolta, como Félix Clemente Malcher, Francisco e Antônio Vinagre, Eduardo Angelim e Batista Campos.\n>     *   Mencionar a importância da participação das mulheres na revolta.\n> \n> 5.  **Desenvolvimento da Revolta (30 minutos):**\n>     *   Descrever o início da revolta com a tomada de Belém pelos cabanos em 1835.\n>     *   Explicar as diferentes fases da Cabanagem e as mudanças no governo provisório.\n>     *   Abordar a repressão das forças imperiais e a violência durante o conflito.\n> \n> 6.  **Consequências e Legado (20 minutos):**\n>     *   Analisar as consequências da Cabanagem, incluindo o grande número de mortos e a não obtenção dos objetivos de transformação social.\n>     *   Discutir o impacto da revolta nas tensões sociais, raciais e econômicas do Brasil Imperial.\n>     *   Apresentar o legado da Cabanagem como um movimento de resistência popular e sua importância para a construção da identidade amazônida.\n>     *   Mencionar o Memorial da Cabanagem em Belém como um símbolo da revolta.\n> \n> 7.  **Atividades (20 minutos):**\n>     *   Promover um debate sobre a importância da Cabanagem na história do Brasil.\n>     *   Analisar documentos históricos e imagens da época para aprofundar o conhecimento sobre a revolta.\n>     *   Realizar uma atividade de pesquisa sobre a cultura e a arte inspiradas na Cabanagem na região amazônica.\n> \n> 8.  **Conclusão (10 minutos):**\n>     *   Reafirmar a importância da Cabanagem como um movimento de resistência popular e sua relevância para a história do Brasil.\n>     *   Incentivar os alunos a refletirem sobre as desigualdades sociais e regionais que persistem no país e a importância da luta por justiça social.\n> \n> Este plano de aula detalhado oferece um roteiro abrangente para os professores abordarem a Cabanagem de forma didática e envolvente, explorando seus aspectos históricos, sociais, políticos e culturais.\n> \n"
          },
          "metadata": {}
        },
        {
          "output_type": "stream",
          "name": "stdout",
          "text": [
            "--------------------------------------------------------------\n",
            "\n",
            "--- 📝 Plano de Aula Pronto! ---\n",
            "\n"
          ]
        },
        {
          "output_type": "display_data",
          "data": {
            "text/plain": [
              "<IPython.core.display.Markdown object>"
            ],
            "text/markdown": "> Olá! Com prazer, elaborei um plano de aula detalhado e didático sobre a Cabanagem, perfeito para seus alunos.\n> \n> \n> ## Plano de Aula: A Cabanagem – Revolta Popular na Amazônia Imperial\n> \n> **Público-alvo:** Alunos do Ensino Fundamental II (8º ou 9º ano) ou Ensino Médio.\n> \n> **Duração:** Aproximadamente 4 aulas de 50 minutos cada (ajustável conforme a necessidade).\n> \n> **Objetivos:**\n> \n> *   Compreender o contexto histórico do Período Regencial e sua relação com a Cabanagem.\n> *   Identificar as causas sociais, econômicas e políticas que levaram à revolta.\n> *   Analisar os grupos sociais envolvidos na Cabanagem e seus líderes.\n> *   Compreender o desenvolvimento e as principais fases da revolta.\n> *   Analisar as consequências e o legado da Cabanagem para a região amazônica e para o Brasil.\n> *   Estimular o senso crítico e a reflexão sobre as desigualdades sociais e a importância da participação popular na história.\n> \n> **Recursos:**\n> \n> *   Mapas do Brasil e da região amazônica.\n> *   Textos de apoio (livros didáticos, artigos, documentos históricos).\n> *   Imagens e vídeos relacionados à Cabanagem.\n> *   Projetor (opcional).\n> *   Materiais para produção de cartazes ou apresentações (papel, canetas, etc.).\n> \n> ### Aula 1: Introdução e Contexto Histórico\n> \n> 1.  **Início (10 minutos):**\n>     *   Apresente o tema da Cabanagem como uma revolta popular importante no Brasil durante o Período Regencial (1831-1840).\n>     *   Explique que a Cabanagem ocorreu no Grão-Pará, região que abrangia os atuais estados do Amazonas, Pará, Amapá, Roraima e Rondônia.\n>     *   Questione os alunos sobre o que eles já sabem sobre o Período Regencial e revoltas populares.\n> \n> 2.  **Contexto Histórico (20 minutos):**\n>     *   Explique a situação política do Brasil após a abdicação de Dom Pedro I, em 1831, e a formação do Período Regencial, marcado por instabilidade política devido à menor idade do herdeiro ao trono, Dom Pedro II.\n>     *   Destaque as disputas de poder entre diferentes grupos políticos, como liberais e conservadores, e a descentralização do poder durante a Regência.\n>     *   Mencione outras revoltas ocorridas no Período Regencial, como a Farroupilha e a Balaiada.\n>     *   Utilize um mapa para mostrar a localização do Grão-Pará e sua distância do poder central no Rio de Janeiro.\n>     *   Explique que, após a independência do Brasil em 1822, o Pará aderiu tardiamente ao Império, apenas em 1823, e de forma forçada, sob ocupação militar, aumentando a insatisfação local.\n> \n> 3.  **A Economia e a Sociedade do Grão-Pará (20 minutos):**\n>     *   Descreva a economia do Grão-Pará como baseada no extrativismo de produtos como a borracha e a castanha-do-brasil.\n>     *   Explique que essa economia era marcada pela exploração da mão de obra indígena e pela desigualdade social.\n>     *   Destaque a influência portuguesa na região, que mantinha laços comerciais e culturais fortes com Lisboa, mesmo após a Independência do Brasil.\n>     *   Comente sobre a grande concentração de poder nas mãos da elite local, formada por grandes proprietários de terras e comerciantes.\n> \n> ### Aula 2: As Causas da Cabanagem\n> \n> 1.  **Revisão (10 minutos):**\n>     *   Relembre os principais pontos da aula anterior, como o contexto histórico e a situação do Grão-Pará.\n>     *   Peça aos alunos que citem as principais características do Período Regencial.\n> \n> 2.  **Causas Sociais e Econômicas (20 minutos):**\n>     *   Analise as causas sociais da Cabanagem, como a pobreza da população local, formada por indígenas, negros, mestiços e brancos pobres.\n>     *   Explique que muitos desses grupos viviam em cabanas às margens dos rios, daí o nome \"cabanos\".\n>     *   Destaque a desigualdade social, racial e econômica como um fator determinante para a revolta.\n>     *   Comente sobre a insatisfação com o custo de vida, remuneração baixa e a pobreza e miséria na região.\n>     *   Aborde a questão da influência portuguesa e a concentração de poder nas mãos da elite local, que dificultavam a ascensão social dos mais pobres.\n> \n> 3.  **Causas Políticas (20 minutos):**\n>     *   Discuta as causas políticas da Cabanagem, como o isolamento político do Grão-Pará em relação ao governo central.\n>     *   Explique que a província era governada por presidentes nomeados pelo Rio de Janeiro, que nem sempre atendiam aos interesses locais.\n>     *   Apresente o desejo de autonomia da região em relação ao governo central como um fator importante para a revolta.\n>     *   Explique que muitos políticos brasileiros (membros da elite) queriam mais autonomia política, ou seja, poder tomar mais decisões sem a interferência direta do governo central brasileiro.\n> \n> ### Aula 3: Os Participantes e o Desenvolvimento da Revolta\n> \n> 1.  **Revisão (10 minutos):**\n>     *   Relembre as causas sociais, econômicas e políticas da Cabanagem.\n>     *   Pergunte aos alunos quais grupos sociais eram os mais afetados pela desigualdade na região.\n> \n> 2.  **Participantes e Líderes (20 minutos):**\n>     *   Destaque a ampla participação popular na Cabanagem, incluindo indígenas, negros, mestiços, brancos pobres e até mesmo membros da elite descontente.\n>     *   Apresente os principais líderes da revolta, como Félix Clemente Malcher, Francisco e Antônio Vinagre, Eduardo Angelim e Batista Campos.\n>     *   Explique o papel de cada um desses líderes na Cabanagem e suas diferentes visões sobre os objetivos da revolta.\n>     *   Mencione a importância da participação das mulheres na revolta, como organizadoras, combatentes e provedoras de recursos.\n> \n> 3.  **Desenvolvimento da Revolta (20 minutos):**\n>     *   Descreva o início da revolta com a tomada de Belém pelos cabanos em 1835.\n>     *   Explique as diferentes fases da Cabanagem, marcadas por conflitos internos e externos, mudanças no governo provisório e repressão das forças imperiais.\n>     *   Aborde a violência durante o conflito, que resultou em um grande número de mortos e na destruição de vilas e cidades.\n>     *   Destaque a tomada do poder pelos cabanos, sendo a Cabanagem referida também como a primeira sublevação popular que conseguiu de fato tomar o poder na história do Brasil.\n> \n> ### Aula 4: Consequências e Legado\n> \n> 1.  **Revisão (10 minutos):**\n>     *   Relembre os principais líderes e as fases da Cabanagem.\n>     *   Pergunte aos alunos como a revolta afetou a vida da população do Grão-Pará.\n> \n> 2.  **Consequências (20 minutos):**\n>     *   Analise as consequências da Cabanagem, incluindo o grande número de mortos (estima-se que 30 a 40% da população da província tenha morrido).\n>     *   Discuta o impacto da revolta nas tensões sociais, raciais e econômicas do Brasil Imperial.\n>     *   Explique por que a Cabanagem não atingiu os objetivos de transformação social, como a abolição da escravidão e a distribuição de terras.\n>     *   Destaque as transformações políticas: a revolta teve um impacto significativo nas políticas do império brasileiro, e a insatisfação popular e a revolta dos cabanos chamaram a atenção para a necessidade de reformas e mudanças no governo.\n> \n> 3.  **Legado (20 minutos):**\n>     *   Apresente o legado da Cabanagem como um movimento de resistência popular e sua importância para a construção da identidade amazônida.\n>     *   Mencione o Memorial da Cabanagem em Belém, projetado por Oscar Niemeyer, como um símbolo da revolta.\n>     *   Incentive os alunos a refletirem sobre as desigualdades sociais e regionais que persistem no país e a importância da luta por justiça social.\n>     *   Comente sobre as manifestações culturais e artísticas inspiradas na Cabanagem na região amazônica.\n> \n> **Atividades Complementares:**\n> \n> *   Pesquisa sobre a vida e a obra de Oscar Niemeyer e sua relação com o Memorial da Cabanagem.\n> *   Análise de letras de músicas e poemas que retratam a Cabanagem.\n> *   Elaboração de um mapa conceitual sobre a Cabanagem, relacionando os principais temas abordados em sala de aula.\n> *   Visita a museus ou centros culturais que possuam acervos sobre a Cabanagem (se possível).\n> *   Produção de um vídeo ou podcast sobre a Cabanagem, com entrevistas, depoimentos e informações relevantes.\n> \n> **Avaliação:**\n> \n> *   Participação e envolvimento nas atividades em sala de aula.\n> *   Produção de textos e trabalhos sobre a Cabanagem.\n> *   Apresentação oral sobre temas relacionados à revolta.\n> *   Avaliação escrita sobre os principais conceitos e informações abordados no plano de aula.\n> \n> **Referências:**\n> \n> *   Livros didáticos de História do Brasil.\n> *   Artigos e ensaios sobre a Cabanagem disponíveis em bibliotecas e na internet.\n> *   Documentários e filmes sobre a história do Brasil Imperial e suas revoltas.\n> *   Sítios eletrônicos de instituições de pesquisa e museus.\n> \n> Espero que este plano de aula detalhado seja útil para você! Se precisar de mais alguma coisa, é só me avisar.\n"
          },
          "metadata": {}
        },
        {
          "output_type": "stream",
          "name": "stdout",
          "text": [
            "--------------------------------------------------------------\n"
          ]
        }
      ]
    }
  ]
}